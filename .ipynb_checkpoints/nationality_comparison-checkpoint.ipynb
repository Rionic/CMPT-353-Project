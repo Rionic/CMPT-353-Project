{
 "cells": [
  {
   "cell_type": "code",
   "execution_count": 105,
   "metadata": {},
   "outputs": [
    {
     "data": {
      "text/plain": [
       "array([array([ 2,  3, 25, 49, 79, 51, 14], dtype=int64),\n",
       "       array([ 2,  3, 14, 31, 26,  6], dtype=int64),\n",
       "       array([ 1,  2, 11, 37, 34,  8], dtype=int64),\n",
       "       array([ 1,  5, 40, 73, 37,  3], dtype=int64),\n",
       "       array([ 6, 11, 32, 28,  7], dtype=int64),\n",
       "       array([ 2,  3, 21, 70, 72, 14,  1], dtype=int64),\n",
       "       array([ 1,  3, 11, 30, 86, 90, 19], dtype=int64)], dtype=object)"
      ]
     },
     "execution_count": 105,
     "metadata": {},
     "output_type": "execute_result"
    }
   ],
   "source": [
    "# Chi assume > 5 observations in each cateogry. Filter if needed.\n",
    "# Col 0 is 1.5 rating, col n is 4.5 rating \n",
    "#\n",
    "import pandas as pd\n",
    "import numpy as np\n",
    "from scipy import stats\n",
    "\n",
    "df = pd.read_csv('Data/business_cleaned.csv')\n",
    "\n",
    "df = df.drop(columns=['Unnamed: 0', 'is_open', 'hours', 'address', 'attributes', 'latitude', 'longitude', 'postal_code', 'city', 'state'])\n",
    "\n",
    "american = df[df.categories.str.contains('American')].groupby('stars').count().iloc[:,0]\n",
    "thai = df[df.categories.str.contains('Thai')].groupby('stars').count().iloc[:,0]\n",
    "indian = df[df.categories.str.contains('Indian')].groupby('stars').count().iloc[:,0]\n",
    "chinese = df[df.categories.str.contains('Chinese')].groupby('stars').count().iloc[:,0]\n",
    "mexican = df[df.categories.str.contains('Mexican')].groupby('stars').count().iloc[:,0]\n",
    "italian = df[df.categories.str.contains('Italian')].groupby('stars').count().iloc[:,0]\n",
    "japanese = df[df.categories.str.contains('Japanese')].groupby('stars').count().iloc[:,0]\n",
    "\n",
    "contingency = np.array([american.values, thai.values, indian.values, chinese.values,\n",
    "                        mexican.values, italian.values, japanese.values])\n"
   ]
  },
  {
   "cell_type": "code",
   "execution_count": null,
   "metadata": {},
   "outputs": [],
   "source": []
  }
 ],
 "metadata": {
  "kernelspec": {
   "display_name": "Python 3",
   "language": "python",
   "name": "python3"
  },
  "language_info": {
   "codemirror_mode": {
    "name": "ipython",
    "version": 3
   },
   "file_extension": ".py",
   "mimetype": "text/x-python",
   "name": "python",
   "nbconvert_exporter": "python",
   "pygments_lexer": "ipython3",
   "version": "3.8.3"
  }
 },
 "nbformat": 4,
 "nbformat_minor": 4
}
