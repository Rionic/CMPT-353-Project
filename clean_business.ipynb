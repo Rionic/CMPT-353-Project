{
 "cells": [
  {
   "cell_type": "code",
   "execution_count": null,
   "metadata": {},
   "outputs": [],
   "source": [
    "import pandas as pd\n",
    "\n",
    "df = pd.read_json('yelp-data/yelp_academic_dataset_business.json', lines=True)\n",
    "df = df[df.categories.str.contains('Restaurants', regex=False, na=False)]\n",
    "top_city = df.groupby(df.city).count()\n",
    "top_city = top_city.sort_values(by=['business_id']).iloc[-1].name\n",
    "df = df[df.city == top_city]\n",
    "df = df[df.is_open == 1]\n",
    "df = df[df.review_count > 40]\n",
    "# df = df.drop(columns=['city', 'state', 'address', 'postal_code', 'is_open', 'attributes', 'categories', 'hours'])\n",
    "df.to_csv('business_cleaned.csv')"
   ]
  },
  {
   "cell_type": "code",
   "execution_count": null,
   "metadata": {},
   "outputs": [],
   "source": []
  }
 ],
 "metadata": {
  "kernelspec": {
   "display_name": "Python 3",
   "language": "python",
   "name": "python3"
  },
  "language_info": {
   "codemirror_mode": {
    "name": "ipython",
    "version": 3
   },
   "file_extension": ".py",
   "mimetype": "text/x-python",
   "name": "python",
   "nbconvert_exporter": "python",
   "pygments_lexer": "ipython3",
   "version": "3.8.3"
  }
 },
 "nbformat": 4,
 "nbformat_minor": 4
}
