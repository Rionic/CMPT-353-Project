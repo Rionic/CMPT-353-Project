{
 "cells": [
  {
   "cell_type": "code",
   "execution_count": 4,
   "metadata": {},
   "outputs": [
    {
     "name": "stdout",
     "output_type": "stream",
     "text": [
      "                business_id           name  \\\n",
      "0    8k62wYhDVq1-652YbJi5eg    Tim Hortons   \n",
      "44   XglMkgLbu2U0wsbLTOQhxw    Tim Hortons   \n",
      "32   5KHvSQ9D85ZfBiTXQig4bg    Tim Hortons   \n",
      "33   tnE2pii5EM-9u6iAA1lPyw    Tim Hortons   \n",
      "34   1FH0-rrgqziDLAw0pZD3QQ    Tim Hortons   \n",
      "..                      ...            ...   \n",
      "448  Tv1CcqD67_Bz9YJadLgMuw  Mucho Burrito   \n",
      "449  fCpPsX76xgs4BKLe_uxAMQ  Mucho Burrito   \n",
      "450  iQbvBT1PY1FQdxGUC30nZQ  Mucho Burrito   \n",
      "451  Z8O-Svr6gE_Ie1HVy1I8DQ  Mucho Burrito   \n",
      "550  Sy9XPnOgEr7PemrYPWB7yw   Fit For Life   \n",
      "\n",
      "                                 address     city state postal_code  \\\n",
      "0                   90 Adelaide Street W  Toronto    ON     M5H 3V9   \n",
      "44                    751 Don Mills Road  Toronto    ON     M3C 1S3   \n",
      "32                 438 University Avenue  Toronto    ON     M5G 2K8   \n",
      "33                         1910 Yonge St  Toronto    ON     M4S 3B2   \n",
      "34                  5250 Dundas Street W  Toronto    ON     M9B 1A9   \n",
      "..                                   ...      ...   ...         ...   \n",
      "448          81 Laird Drive, Unit F1001A  Toronto    ON     M4G 3V1   \n",
      "449                   263 Queen Street W  Toronto    ON     M5V 1Z4   \n",
      "450                     260 Yonge Street  Toronto    ON     M5B 2M8   \n",
      "451  Bay Adelaide Centre, 333 Bay Street  Toronto    ON     M5H 2S8   \n",
      "550                           25 York St  Toronto    ON     M5J 2V5   \n",
      "\n",
      "      latitude  longitude  stars  review_count  is_open  \\\n",
      "0    43.649859 -79.382060    3.0             8        1   \n",
      "44   43.713897 -79.335816    3.5             6        1   \n",
      "32   43.654664 -79.388961    4.0             4        1   \n",
      "33   43.698470 -79.397141    3.0            11        1   \n",
      "34   43.638401 -79.538961    2.5            10        1   \n",
      "..         ...        ...    ...           ...      ...   \n",
      "448  43.705331 -79.361354    3.0            26        1   \n",
      "449  43.650110 -79.389144    3.0            28        1   \n",
      "450  43.655513 -79.381728    1.5            23        1   \n",
      "451  43.650240 -79.380900    3.0            13        1   \n",
      "550  43.643477 -79.380961    2.0             4        1   \n",
      "\n",
      "                                            attributes  \\\n",
      "0    {'OutdoorSeating': 'False', 'RestaurantsDelive...   \n",
      "44   {'Ambience': \"{'romantic': False, 'intimate': ...   \n",
      "32   {'RestaurantsTakeOut': 'True', 'RestaurantsDel...   \n",
      "33   {'BusinessParking': \"{'garage': False, 'street...   \n",
      "34   {'OutdoorSeating': 'True', 'RestaurantsPriceRa...   \n",
      "..                                                 ...   \n",
      "448  {'RestaurantsGoodForGroups': 'True', 'Restaura...   \n",
      "449  {'RestaurantsTakeOut': 'True', 'RestaurantsGoo...   \n",
      "450  {'Alcohol': \"u'none'\", 'RestaurantsAttire': \"u...   \n",
      "451  {'RestaurantsPriceRange2': '2', 'NoiseLevel': ...   \n",
      "550  {'RestaurantsPriceRange2': '2', 'RestaurantsTa...   \n",
      "\n",
      "                                            categories  \\\n",
      "0    Bagels, Donuts, Food, Cafes, Coffee & Tea, Res...   \n",
      "44   Donuts, Breakfast & Brunch, Food, Restaurants,...   \n",
      "32              Food, Cafes, Restaurants, Coffee & Tea   \n",
      "33                            Cafes, Restaurants, Food   \n",
      "34              Restaurants, Cafes, Coffee & Tea, Food   \n",
      "..                                                 ...   \n",
      "448                               Restaurants, Mexican   \n",
      "449                               Mexican, Restaurants   \n",
      "450                         Mexican, Restaurants, Food   \n",
      "451  Restaurants, Food, Mexican, Specialty Food, Fa...   \n",
      "550  Sandwiches, Food, Salad, Restaurants, Fast Foo...   \n",
      "\n",
      "                                                 hours  count  \n",
      "0                                                  NaN     58  \n",
      "44   {'Monday': '0:0-0:0', 'Tuesday': '0:0-0:0', 'W...     58  \n",
      "32                                                 NaN     58  \n",
      "33                                                 NaN     58  \n",
      "34   {'Monday': '0:0-0:0', 'Tuesday': '0:0-0:0', 'W...     58  \n",
      "..                                                 ...    ...  \n",
      "448  {'Monday': '0:0-0:0', 'Tuesday': '10:30-21:30'...     10  \n",
      "449  {'Monday': '10:30-22:30', 'Tuesday': '10:30-22...     10  \n",
      "450                                                NaN     10  \n",
      "451  {'Monday': '7:30-18:0', 'Tuesday': '7:30-18:0'...     10  \n",
      "550  {'Monday': '6:30-8:0', 'Tuesday': '6:30-8:0', ...     10  \n",
      "\n",
      "[551 rows x 15 columns]\n"
     ]
    },
    {
     "data": {
      "image/png": "[encoded data removed]",
      "text/plain": [
       "<Figure size 432x288 with 1 Axes>"
      ]
     },
     "metadata": {
      "needs_background": "light"
     },
     "output_type": "display_data"
    }
   ],
   "source": [
    "# Chain restaurants\n",
    "import pandas as pd\n",
    "import matplotlib.pyplot as plt\n",
    "\n",
    "df = pd.read_csv('Data/all_reviews_cleaned.csv', index_col=[0])\n",
    "\n",
    "# filter: Subset the dataframe rows or columns according to the specified index labels.\n",
    "count_name = df.filter(['name'])\n",
    "\n",
    "# Get number of restaurants for each business\n",
    "count_name = count_name.groupby(count_name['name']).size().reset_index(name='count')\n",
    "count_name = count_name.sort_values(by=['count'], ascending = False)\n",
    "\n",
    "# Number of locations to be a chain restaurant\n",
    "removed_outliers = count_name['count'] >= 10\n",
    "count_name = count_name[removed_outliers]\n",
    "\n",
    "plt.hist(count_name['count'], bins=10)\n",
    "# plt.show()\n",
    "# print(count_name)\n",
    "\n",
    "join = pd.merge(df, count_name, on = 'name')\n",
    "join = join.sort_values(by=['count'], ascending = False)\n",
    "print(join)\n",
    "\n",
    "df.to_csv('Data/chain_restaurant_cleaned.csv', index = False)"
   ]
  },
  {
   "cell_type": "code",
   "execution_count": null,
   "metadata": {},
   "outputs": [],
   "source": []
  }
 ],
 "metadata": {
  "kernelspec": {
   "display_name": "Python 3",
   "language": "python",
   "name": "python3"
  },
  "language_info": {
   "codemirror_mode": {
    "name": "ipython",
    "version": 3
   },
   "file_extension": ".py",
   "mimetype": "text/x-python",
   "name": "python",
   "nbconvert_exporter": "python",
   "pygments_lexer": "ipython3",
   "version": "3.8.3"
  }
 },
 "nbformat": 4,
 "nbformat_minor": 4
}
