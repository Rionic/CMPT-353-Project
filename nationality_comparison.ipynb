{
 "cells": [
  {
   "cell_type": "code",
   "execution_count": 279,
   "metadata": {},
   "outputs": [
    {
     "name": "stdout",
     "output_type": "stream",
     "text": [
      "P-value: 0.0002835544526739311\n",
      "We can conclude the nationality of the restaurant has an effect on the rating\n",
      "Expected values:\n",
      "[[ 0.6  2.5 11.5 36.9 85.5 70.8 14.9  0.2]\n",
      " [ 0.2  0.9  4.2 13.6 31.4 26.   5.5  0.1]\n",
      " [ 0.3  1.   4.8 15.4 35.7 29.5  6.2  0.1]\n",
      " [ 0.4  1.8  8.2 26.3 61.  50.5 10.6  0.1]\n",
      " [ 0.2  0.9  4.3 13.9 32.2 26.7  5.6  0.1]\n",
      " [ 0.5  2.1  9.5 30.3 70.2 58.1 12.2  0.2]\n",
      " [ 0.7  2.7 12.4 39.7 92.  76.2 16.   0.2]]\n"
     ]
    }
   ],
   "source": [
    "# Chi-Squared Test with restaurant nationalities as categories and their corresponding ratings\n",
    "\n",
    "import pandas as pd\n",
    "import numpy as np\n",
    "from scipy import stats\n",
    "import matplotlib as mpl\n",
    "import seaborn\n",
    "seaborn.set()\n",
    "import matplotlib.patches as mpatches\n",
    "\n",
    "\n",
    "df = pd.read_csv('Data/business_cleaned.csv')\n",
    "\n",
    "df = df.drop(columns=['Unnamed: 0', 'is_open', 'hours', 'address', 'attributes', 'latitude', 'longitude', 'postal_code', 'city', 'state'])\n",
    "\n",
    "american = df[df.categories.str.contains('American')].groupby('stars').count().iloc[:,0]\n",
    "thai = df[df.categories.str.contains('Thai')].groupby('stars').count().iloc[:,0]\n",
    "indian = df[df.categories.str.contains('Indian')].groupby('stars').count().iloc[:,0]\n",
    "chinese = df[df.categories.str.contains('Chinese')].groupby('stars').count().iloc[:,0]\n",
    "mexican = df[df.categories.str.contains('Mexican')].groupby('stars').count().iloc[:,0]\n",
    "italian = df[df.categories.str.contains('Italian')].groupby('stars').count().iloc[:,0]\n",
    "japanese = df[df.categories.str.contains('Japanese')].groupby('stars').count().iloc[:,0]\n",
    "\n",
    "contingency = pd.concat([american, thai, indian, chinese, mexican, italian, japanese], axis=1, \n",
    "                        keys=['American', 'Thai', 'Indian', 'Chinese', 'Mexican', 'Italian', 'Japanese'])\n",
    "contingency = contingency.fillna(0)\n",
    "contingency = contingency.T\n",
    "\n",
    "# Each category has > 5 observations, so we can proceed\n",
    "\n",
    "chi2, p, dof, expected = stats.chi2_contingency(contingency.values)\n",
    "print(\"P-value:\", p)\n",
    "print(\"We can conclude the nationality of the restaurant has an effect on the rating\")\n",
    "print(\"Expected values:\")\n",
    "print(expected.round(1))\n"
   ]
  },
  {
   "cell_type": "code",
   "execution_count": 291,
   "metadata": {},
   "outputs": [
    {
     "data": {
      "image/png": "[encoded data removed]",
      "text/plain": [
       "<Figure size 432x288 with 1 Axes>"
      ]
     },
     "metadata": {},
     "output_type": "display_data"
    }
   ],
   "source": [
    "american = df[df.categories.str.contains('American')]\n",
    "thai = df[df.categories.str.contains('Thai')]\n",
    "indian = df[df.categories.str.contains('Indian')]\n",
    "chinese = df[df.categories.str.contains('Chinese')]\n",
    "mexican = df[df.categories.str.contains('Mexican')]\n",
    "italian = df[df.categories.str.contains('Italian')]\n",
    "japanese = df[df.categories.str.contains('Japanese')]\n",
    "\n",
    "plt.hist([american.stars, thai.stars, indian.stars, chinese.stars, mexican.stars, italian.stars, japanese.stars])\n",
    "plt.title('Restaurant Ratings by Nationality', fontsize=14)\n",
    "plt.xlabel('Rating')\n",
    "plt.ylabel('Frequency')\n",
    "\n",
    "blue_patch = mpatches.Patch(color='blue', label='American')\n",
    "orange_patch = mpatches.Patch(color='orange', label='Thai')\n",
    "green_patch = mpatches.Patch(color='green', label='Indian')\n",
    "red_patch = mpatches.Patch(color='red', label='Chinese')\n",
    "purple_patch = mpatches.Patch(color='purple', label='Mexican')\n",
    "brown_patch = mpatches.Patch(color='brown', label='Italian')\n",
    "pink_patch = mpatches.Patch(color='pink', label='Japanese')\n",
    "\n",
    "plt.legend(handles=[blue_patch, orange_patch, green_patch, red_patch, purple_patch, brown_patch, pink_patch])\n",
    "plt.savefig('nationality_ratings.png')"
   ]
  },
  {
   "cell_type": "code",
   "execution_count": 299,
   "metadata": {},
   "outputs": [
    {
     "name": "stdout",
     "output_type": "stream",
     "text": [
      "anova p-value of 1.1477238206744112e-07 means that there is a difference amongst\n",
      "the means of the algorithms and we can conduct a post-hoc analysis\n"
     ]
    },
    {
     "ename": "TypeError",
     "evalue": "first argument must be an iterable of pandas objects, you passed an object of type \"Series\"",
     "output_type": "error",
     "traceback": [
      "\u001b[1;31m---------------------------------------------------------------------------\u001b[0m",
      "\u001b[1;31mTypeError\u001b[0m                                 Traceback (most recent call last)",
      "\u001b[1;32m<ipython-input-299-5b42b2f40ed9>\u001b[0m in \u001b[0;36m<module>\u001b[1;34m\u001b[0m\n\u001b[0;32m      3\u001b[0m \u001b[0mprint\u001b[0m\u001b[1;33m(\u001b[0m\u001b[1;34m\"anova p-value of\"\u001b[0m\u001b[1;33m,\u001b[0m \u001b[0manova\u001b[0m\u001b[1;33m.\u001b[0m\u001b[0mpvalue\u001b[0m\u001b[1;33m,\u001b[0m \u001b[1;34m\"means that there is a difference amongst\"\u001b[0m\u001b[1;33m)\u001b[0m\u001b[1;33m\u001b[0m\u001b[1;33m\u001b[0m\u001b[0m\n\u001b[0;32m      4\u001b[0m \u001b[0mprint\u001b[0m\u001b[1;33m(\u001b[0m\u001b[1;34m\"the means of the algorithms and we can conduct a post-hoc analysis\"\u001b[0m\u001b[1;33m)\u001b[0m\u001b[1;33m\u001b[0m\u001b[1;33m\u001b[0m\u001b[0m\n\u001b[1;32m----> 5\u001b[1;33m \u001b[0mpd\u001b[0m\u001b[1;33m.\u001b[0m\u001b[0mconcat\u001b[0m\u001b[1;33m(\u001b[0m\u001b[0mamerican\u001b[0m\u001b[1;33m.\u001b[0m\u001b[0mstars\u001b[0m\u001b[1;33m,\u001b[0m \u001b[0mthai\u001b[0m\u001b[1;33m.\u001b[0m\u001b[0mstars\u001b[0m\u001b[1;33m)\u001b[0m\u001b[1;33m\u001b[0m\u001b[1;33m\u001b[0m\u001b[0m\n\u001b[0m",
      "\u001b[1;32m~\\anaconda3\\lib\\site-packages\\pandas\\core\\reshape\\concat.py\u001b[0m in \u001b[0;36mconcat\u001b[1;34m(objs, axis, join, ignore_index, keys, levels, names, verify_integrity, sort, copy)\u001b[0m\n\u001b[0;32m    269\u001b[0m     \u001b[0mValueError\u001b[0m\u001b[1;33m:\u001b[0m \u001b[0mIndexes\u001b[0m \u001b[0mhave\u001b[0m \u001b[0moverlapping\u001b[0m \u001b[0mvalues\u001b[0m\u001b[1;33m:\u001b[0m \u001b[1;33m[\u001b[0m\u001b[1;34m'a'\u001b[0m\u001b[1;33m]\u001b[0m\u001b[1;33m\u001b[0m\u001b[1;33m\u001b[0m\u001b[0m\n\u001b[0;32m    270\u001b[0m     \"\"\"\n\u001b[1;32m--> 271\u001b[1;33m     op = _Concatenator(\n\u001b[0m\u001b[0;32m    272\u001b[0m         \u001b[0mobjs\u001b[0m\u001b[1;33m,\u001b[0m\u001b[1;33m\u001b[0m\u001b[1;33m\u001b[0m\u001b[0m\n\u001b[0;32m    273\u001b[0m         \u001b[0maxis\u001b[0m\u001b[1;33m=\u001b[0m\u001b[0maxis\u001b[0m\u001b[1;33m,\u001b[0m\u001b[1;33m\u001b[0m\u001b[1;33m\u001b[0m\u001b[0m\n",
      "\u001b[1;32m~\\anaconda3\\lib\\site-packages\\pandas\\core\\reshape\\concat.py\u001b[0m in \u001b[0;36m__init__\u001b[1;34m(self, objs, axis, join, keys, levels, names, ignore_index, verify_integrity, copy, sort)\u001b[0m\n\u001b[0;32m    304\u001b[0m     ):\n\u001b[0;32m    305\u001b[0m         \u001b[1;32mif\u001b[0m \u001b[0misinstance\u001b[0m\u001b[1;33m(\u001b[0m\u001b[0mobjs\u001b[0m\u001b[1;33m,\u001b[0m \u001b[1;33m(\u001b[0m\u001b[0mNDFrame\u001b[0m\u001b[1;33m,\u001b[0m \u001b[0mstr\u001b[0m\u001b[1;33m)\u001b[0m\u001b[1;33m)\u001b[0m\u001b[1;33m:\u001b[0m\u001b[1;33m\u001b[0m\u001b[1;33m\u001b[0m\u001b[0m\n\u001b[1;32m--> 306\u001b[1;33m             raise TypeError(\n\u001b[0m\u001b[0;32m    307\u001b[0m                 \u001b[1;34m\"first argument must be an iterable of pandas \"\u001b[0m\u001b[1;33m\u001b[0m\u001b[1;33m\u001b[0m\u001b[0m\n\u001b[0;32m    308\u001b[0m                 \u001b[1;34m\"objects, you passed an object of type \"\u001b[0m\u001b[1;33m\u001b[0m\u001b[1;33m\u001b[0m\u001b[0m\n",
      "\u001b[1;31mTypeError\u001b[0m: first argument must be an iterable of pandas objects, you passed an object of type \"Series\""
     ]
    }
   ],
   "source": [
    "anova = stats.f_oneway(american.stars, thai.stars, indian.stars, chinese.stars, mexican.stars, italian.stars, japanese.stars)\n",
    "# melt = pd.melt(df)\n",
    "print(\"anova p-value of\", anova.pvalue, \"means that there is a difference amongst\")\n",
    "print(\"the means of the algorithms and we can conduct a post-hoc analysis\")\n"
   ]
  },
  {
   "cell_type": "code",
   "execution_count": null,
   "metadata": {},
   "outputs": [],
   "source": []
  }
 ],
 "metadata": {
  "kernelspec": {
   "display_name": "Python 3",
   "language": "python",
   "name": "python3"
  },
  "language_info": {
   "codemirror_mode": {
    "name": "ipython",
    "version": 3
   },
   "file_extension": ".py",
   "mimetype": "text/x-python",
   "name": "python",
   "nbconvert_exporter": "python",
   "pygments_lexer": "ipython3",
   "version": "3.8.3"
  }
 },
 "nbformat": 4,
 "nbformat_minor": 4
}
