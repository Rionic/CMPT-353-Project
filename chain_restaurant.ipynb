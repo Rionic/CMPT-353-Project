{
 "cells": [
  {
   "cell_type": "code",
   "execution_count": 4,
   "metadata": {},
   "outputs": [
    {
     "name": "stdout",
     "output_type": "stream",
     "text": [
      "0.338134765625\n",
      "0.0\n",
      "0.72900390625\n",
      "0.0007320644216691069\n",
      "0.93017578125\n",
      "0.0007320644216691069\n"
     ]
    }
   ],
   "source": [
    "\n",
    "# What type of chain restaurant is the most likely to be in an area given the latitude and longitude? kNN/DT/Bayes\n",
    "# Define a number of how many locations a restaurant needs to be considered a “chain restaurant” / join with wikipedia data. \n",
    "# Take lat/lon pairs and restaurant names from this data and throw it in a classifier. \n",
    "# X = (lat, lon) pair (2D array), y = restaurant name\n",
    "\n",
    "# Center: 43.73082, -79.40008\n",
    "\n",
    "\n",
    "\n",
    "import pandas as pd\n",
    "import numpy as np\n",
    "import matplotlib.pyplot as plt\n",
    "from sklearn.naive_bayes import GaussianNB\n",
    "from sklearn.neighbors import KNeighborsClassifier\n",
    "from sklearn.tree import DecisionTreeClassifier\n",
    "from sklearn.preprocessing import FunctionTransformer\n",
    "from sklearn.preprocessing import StandardScaler\n",
    "from sklearn.pipeline import make_pipeline\n",
    "from sklearn.model_selection import train_test_split\n",
    "from sklearn.ensemble import GradientBoostingClassifier\n",
    "\n",
    "\n",
    "df = pd.read_csv('Data/chain_restaurant_cleaned.csv')\n",
    "\n",
    "\n",
    "X = df.loc[:,['latitude', 'longitude']].to_numpy()\n",
    "y = df.name.to_numpy()\n",
    "X_train, X_valid, y_train, y_valid = train_test_split(X,y)\n",
    "\n",
    "model_knn = KNeighborsClassifier(n_neighbors=3)\n",
    "model_knn.fit(X_train, y_train)\n",
    "print(model_knn.score(X_train, y_train))\n",
    "print(model_knn.score(X_valid, y_valid))\n",
    "\n",
    "model_bayes = GaussianNB()\n",
    "model_bayes.fit(X_train, y_train)\n",
    "print(model_bayes.score(X_train, y_train))\n",
    "print(model_bayes.score(X_valid, y_valid))\n",
    "\n",
    "model_dt = DecisionTreeClassifier()\n",
    "model_dt.fit(X_train, y_train)\n",
    "print(model_dt.score(X_train, y_train))\n",
    "print(model_dt.score(X_valid, y_valid))\n",
    "\n",
    "# model_boost = GradientBoostingClassifier() # Runs endlessly\n",
    "# model_boost.fit(X_train, y_train)\n",
    "# print(model_boost.score(X_train, y_train))\n",
    "# print(model_boost.score(X_valid, y_valid))\n"
   ]
  },
  {
   "cell_type": "code",
   "execution_count": null,
   "metadata": {},
   "outputs": [],
   "source": []
  },
  {
   "cell_type": "code",
   "execution_count": null,
   "metadata": {},
   "outputs": [],
   "source": []
  }
 ],
 "metadata": {
  "kernelspec": {
   "display_name": "Python 3",
   "language": "python",
   "name": "python3"
  },
  "language_info": {
   "codemirror_mode": {
    "name": "ipython",
    "version": 3
   },
   "file_extension": ".py",
   "mimetype": "text/x-python",
   "name": "python",
   "nbconvert_exporter": "python",
   "pygments_lexer": "ipython3",
   "version": "3.8.3"
  }
 },
 "nbformat": 4,
 "nbformat_minor": 4
}
