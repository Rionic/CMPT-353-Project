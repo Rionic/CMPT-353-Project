{
 "cells": [
  {
   "cell_type": "code",
   "execution_count": 2,
   "metadata": {},
   "outputs": [
    {
     "data": {
      "text/html": [
       "<div>\n",
       "<style scoped>\n",
       "    .dataframe tbody tr th:only-of-type {\n",
       "        vertical-align: middle;\n",
       "    }\n",
       "\n",
       "    .dataframe tbody tr th {\n",
       "        vertical-align: top;\n",
       "    }\n",
       "\n",
       "    .dataframe thead th {\n",
       "        text-align: right;\n",
       "    }\n",
       "</style>\n",
       "<table border=\"1\" class=\"dataframe\">\n",
       "  <thead>\n",
       "    <tr style=\"text-align: right;\">\n",
       "      <th>stars</th>\n",
       "      <th>1.0</th>\n",
       "      <th>1.5</th>\n",
       "      <th>2.0</th>\n",
       "      <th>2.5</th>\n",
       "      <th>3.0</th>\n",
       "      <th>3.5</th>\n",
       "      <th>4.0</th>\n",
       "      <th>4.5</th>\n",
       "      <th>5.0</th>\n",
       "    </tr>\n",
       "  </thead>\n",
       "  <tbody>\n",
       "    <tr>\n",
       "      <th>American</th>\n",
       "      <td>6.0</td>\n",
       "      <td>6.0</td>\n",
       "      <td>27.0</td>\n",
       "      <td>60.0</td>\n",
       "      <td>88.0</td>\n",
       "      <td>114.0</td>\n",
       "      <td>98.0</td>\n",
       "      <td>37.0</td>\n",
       "      <td>5.0</td>\n",
       "    </tr>\n",
       "    <tr>\n",
       "      <th>Thai</th>\n",
       "      <td>1.0</td>\n",
       "      <td>5.0</td>\n",
       "      <td>11.0</td>\n",
       "      <td>16.0</td>\n",
       "      <td>35.0</td>\n",
       "      <td>63.0</td>\n",
       "      <td>43.0</td>\n",
       "      <td>13.0</td>\n",
       "      <td>2.0</td>\n",
       "    </tr>\n",
       "    <tr>\n",
       "      <th>Indian</th>\n",
       "      <td>4.0</td>\n",
       "      <td>1.0</td>\n",
       "      <td>9.0</td>\n",
       "      <td>17.0</td>\n",
       "      <td>44.0</td>\n",
       "      <td>72.0</td>\n",
       "      <td>66.0</td>\n",
       "      <td>30.0</td>\n",
       "      <td>4.0</td>\n",
       "    </tr>\n",
       "    <tr>\n",
       "      <th>Chinese</th>\n",
       "      <td>2.0</td>\n",
       "      <td>7.0</td>\n",
       "      <td>23.0</td>\n",
       "      <td>46.0</td>\n",
       "      <td>108.0</td>\n",
       "      <td>154.0</td>\n",
       "      <td>97.0</td>\n",
       "      <td>16.0</td>\n",
       "      <td>2.0</td>\n",
       "    </tr>\n",
       "    <tr>\n",
       "      <th>Mexican</th>\n",
       "      <td>0.0</td>\n",
       "      <td>4.0</td>\n",
       "      <td>6.0</td>\n",
       "      <td>31.0</td>\n",
       "      <td>33.0</td>\n",
       "      <td>51.0</td>\n",
       "      <td>40.0</td>\n",
       "      <td>18.0</td>\n",
       "      <td>2.0</td>\n",
       "    </tr>\n",
       "    <tr>\n",
       "      <th>Italian</th>\n",
       "      <td>5.0</td>\n",
       "      <td>9.0</td>\n",
       "      <td>24.0</td>\n",
       "      <td>32.0</td>\n",
       "      <td>46.0</td>\n",
       "      <td>113.0</td>\n",
       "      <td>114.0</td>\n",
       "      <td>36.0</td>\n",
       "      <td>5.0</td>\n",
       "    </tr>\n",
       "    <tr>\n",
       "      <th>Japanese</th>\n",
       "      <td>0.0</td>\n",
       "      <td>4.0</td>\n",
       "      <td>11.0</td>\n",
       "      <td>16.0</td>\n",
       "      <td>49.0</td>\n",
       "      <td>121.0</td>\n",
       "      <td>131.0</td>\n",
       "      <td>43.0</td>\n",
       "      <td>5.0</td>\n",
       "    </tr>\n",
       "  </tbody>\n",
       "</table>\n",
       "</div>"
      ],
      "text/plain": [
       "stars     1.0  1.5   2.0   2.5    3.0    3.5    4.0   4.5  5.0\n",
       "American  6.0  6.0  27.0  60.0   88.0  114.0   98.0  37.0  5.0\n",
       "Thai      1.0  5.0  11.0  16.0   35.0   63.0   43.0  13.0  2.0\n",
       "Indian    4.0  1.0   9.0  17.0   44.0   72.0   66.0  30.0  4.0\n",
       "Chinese   2.0  7.0  23.0  46.0  108.0  154.0   97.0  16.0  2.0\n",
       "Mexican   0.0  4.0   6.0  31.0   33.0   51.0   40.0  18.0  2.0\n",
       "Italian   5.0  9.0  24.0  32.0   46.0  113.0  114.0  36.0  5.0\n",
       "Japanese  0.0  4.0  11.0  16.0   49.0  121.0  131.0  43.0  5.0"
      ]
     },
     "execution_count": 2,
     "metadata": {},
     "output_type": "execute_result"
    }
   ],
   "source": [
    "# Chi-Squared Test with restaurant nationalities as categories and their corresponding ratings\n",
    "\n",
    "import pandas as pd\n",
    "import numpy as np\n",
    "from scipy import stats\n",
    "import matplotlib.pyplot as plt\n",
    "import seaborn\n",
    "seaborn.set()\n",
    "import matplotlib.patches as mpatches\n",
    "from statsmodels.stats.multicomp import pairwise_tukeyhsd\n",
    "\n",
    "\n",
    "df = pd.read_csv('../2-cleaned_data/business_cleaned.csv')\n",
    "\n",
    "df = df.drop(columns=['Unnamed: 0', 'is_open', 'hours', 'address', 'attributes', 'latitude', 'longitude', 'postal_code', 'city', 'state'])\n",
    "\n",
    "american = df[df.categories.str.contains('American')].groupby('stars').count().iloc[:,0]\n",
    "thai = df[df.categories.str.contains('Thai')].groupby('stars').count().iloc[:,0]\n",
    "indian = df[df.categories.str.contains('Indian')].groupby('stars').count().iloc[:,0]\n",
    "chinese = df[df.categories.str.contains('Chinese')].groupby('stars').count().iloc[:,0]\n",
    "mexican = df[df.categories.str.contains('Mexican')].groupby('stars').count().iloc[:,0]\n",
    "italian = df[df.categories.str.contains('Italian')].groupby('stars').count().iloc[:,0]\n",
    "japanese = df[df.categories.str.contains('Japanese')].groupby('stars').count().iloc[:,0]\n",
    "\n",
    "contingency = pd.concat([american, thai, indian, chinese, mexican, italian, japanese], axis=1, \n",
    "                        keys=['American', 'Thai', 'Indian', 'Chinese', 'Mexican', 'Italian', 'Japanese'])\n",
    "contingency = contingency.fillna(0)\n",
    "contingency = contingency.T\n",
    "# Each category has > 5 observations, so we can proceed\n",
    "contingency"
   ]
  },
  {
   "cell_type": "code",
   "execution_count": null,
   "metadata": {},
   "outputs": [],
   "source": [
    "chi2, p, dof, expected = stats.chi2_contingency(contingency.values)\n",
    "print(\"P-value:\", p)\n",
    "print(\"We can conclude the nationality of the restaurant has an effect on the rating\")\n",
    "print(\"Expected values:\")\n",
    "expected = pd.DataFrame(expected.round(1), columns=['1.0', '1.5', '2.0', '2.5', '3.0', '3.5', '4.0', '4.5', '5.0'], \n",
    "                        index=['American', 'Thai', 'Indian', 'Chinese', 'Mexican', 'Italian', 'Japanese'])\n",
    "expected"
   ]
  },
  {
   "cell_type": "code",
   "execution_count": 3,
   "metadata": {},
   "outputs": [
    {
     "data": {
      "image/png": "[encoded data removed]",
      "text/plain": [
       "<Figure size 432x288 with 1 Axes>"
      ]
     },
     "metadata": {},
     "output_type": "display_data"
    }
   ],
   "source": [
    "american = df[df.categories.str.contains('American')]\n",
    "thai = df[df.categories.str.contains('Thai')]\n",
    "indian = df[df.categories.str.contains('Indian')]\n",
    "chinese = df[df.categories.str.contains('Chinese')]\n",
    "mexican = df[df.categories.str.contains('Mexican')]\n",
    "italian = df[df.categories.str.contains('Italian')]\n",
    "japanese = df[df.categories.str.contains('Japanese')]\n",
    "\n",
    "plt.hist([american.stars, thai.stars, indian.stars, chinese.stars, mexican.stars, italian.stars, japanese.stars],\n",
    "        bins=[1,1.5,2,2.5,3,3.5,4,4.5,5])\n",
    "plt.title('Restaurant Ratings by Nationality', fontsize=14)\n",
    "plt.xlabel('Rating')\n",
    "plt.ylabel('Frequency')\n",
    "blue_patch = mpatches.Patch(color='blue', label='American')\n",
    "orange_patch = mpatches.Patch(color='orange', label='Thai')\n",
    "green_patch = mpatches.Patch(color='green', label='Indian')\n",
    "red_patch = mpatches.Patch(color='red', label='Chinese')\n",
    "purple_patch = mpatches.Patch(color='purple', label='Mexican')\n",
    "brown_patch = mpatches.Patch(color='brown', label='Italian')\n",
    "pink_patch = mpatches.Patch(color='pink', label='Japanese')\n",
    "\n",
    "plt.legend(handles=[blue_patch, orange_patch, green_patch, red_patch, purple_patch, brown_patch, pink_patch])\n",
    "plt.savefig('../4-figures/nationality_comparison/nationality_ratings.png')"
   ]
  },
  {
   "cell_type": "code",
   "execution_count": 4,
   "metadata": {},
   "outputs": [
    {
     "data": {
      "text/plain": [
       "1.0076399663018436e-10"
      ]
     },
     "execution_count": 4,
     "metadata": {},
     "output_type": "execute_result"
    }
   ],
   "source": [
    "# P-value < 0.05 means we can conduct a post-hoc analysis \n",
    "anova = stats.f_oneway(american.stars, thai.stars, indian.stars, chinese.stars, mexican.stars, italian.stars, japanese.stars)\n",
    "anova.pvalue"
   ]
  },
  {
   "cell_type": "code",
   "execution_count": 5,
   "metadata": {},
   "outputs": [
    {
     "name": "stdout",
     "output_type": "stream",
     "text": [
      "  Multiple Comparison of Means - Tukey HSD, FWER=0.50   \n",
      "========================================================\n",
      " group1   group2  meandiff p-adj   lower   upper  reject\n",
      "--------------------------------------------------------\n",
      "American  Chinese  -0.0121    0.9 -0.1021  0.0778  False\n",
      "American   Indian   0.1951 0.0117  0.0882   0.302   True\n",
      "American  Italian   0.1222  0.185  0.0283  0.2161   True\n",
      "American Japanese   0.3111  0.001  0.2169  0.4053   True\n",
      "American  Mexican   0.0498    0.9  -0.068  0.1677  False\n",
      "American     Thai   0.0446    0.9 -0.0724  0.1616  False\n",
      " Chinese   Indian   0.2072 0.0051  0.1009  0.3136   True\n",
      " Chinese  Italian   0.1343    0.1  0.0411  0.2276   True\n",
      " Chinese Japanese   0.3232  0.001  0.2297  0.4167   True\n",
      " Chinese  Mexican    0.062    0.9 -0.0553  0.1793  False\n",
      " Chinese     Thai   0.0567    0.9 -0.0597  0.1732  False\n",
      "  Indian  Italian  -0.0729 0.8688 -0.1827  0.0368  False\n",
      "  Indian Japanese    0.116 0.4349   0.006   0.226   True\n",
      "  Indian  Mexican  -0.1452 0.3682 -0.2761 -0.0144   True\n",
      "  Indian     Thai  -0.1505 0.3154 -0.2805 -0.0205   True\n",
      " Italian Japanese   0.1889 0.0054  0.0915  0.2863   True\n",
      " Italian  Mexican  -0.0723    0.9 -0.1928  0.0481  False\n",
      " Italian     Thai  -0.0776 0.8857 -0.1971   0.042  False\n",
      "Japanese  Mexican  -0.2612  0.001 -0.3819 -0.1406   True\n",
      "Japanese     Thai  -0.2665  0.001 -0.3862 -0.1467   True\n",
      " Mexican     Thai  -0.0052    0.9 -0.1444  0.1339  False\n",
      "--------------------------------------------------------\n"
     ]
    },
    {
     "data": {
      "image/png": "[encoded data removed]",
      "text/plain": [
       "<Figure size 720x432 with 1 Axes>"
      ]
     },
     "metadata": {},
     "output_type": "display_data"
    }
   ],
   "source": [
    "df2 = pd.concat([american.stars, thai.stars, indian.stars, chinese.stars, mexican.stars, italian.stars, japanese.stars],\n",
    "                axis=1, keys=['American', 'Thai', 'Indian', 'Chinese', 'Mexican', 'Italian', 'Japanese'])\n",
    "melt = pd.melt(df2)\n",
    "melt = melt.dropna()\n",
    "posthoc = pairwise_tukeyhsd(melt['value'], melt['variable'], alpha=0.5)\n",
    "print(posthoc)\n",
    "graph = posthoc.plot_simultaneous()"
   ]
  }
 ],
 "metadata": {
  "kernelspec": {
   "display_name": "Python 3",
   "language": "python",
   "name": "python3"
  },
  "language_info": {
   "codemirror_mode": {
    "name": "ipython",
    "version": 3
   },
   "file_extension": ".py",
   "mimetype": "text/x-python",
   "name": "python",
   "nbconvert_exporter": "python",
   "pygments_lexer": "ipython3",
   "version": "3.8.3"
  }
 },
 "nbformat": 4,
 "nbformat_minor": 4
}
